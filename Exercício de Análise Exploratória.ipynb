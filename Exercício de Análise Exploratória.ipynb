{
 "cells": [
  {
   "cell_type": "markdown",
   "id": "78366153",
   "metadata": {},
   "source": [
    "# Exercício"
   ]
  },
  {
   "cell_type": "code",
   "execution_count": 1,
   "id": "ed4ac721",
   "metadata": {
    "ExecuteTime": {
     "end_time": "2023-02-17T13:15:17.460987Z",
     "start_time": "2023-02-17T13:15:16.366288Z"
    }
   },
   "outputs": [],
   "source": [
    "# Importando as bibliotecas\n",
    "import pandas as pd\n",
    "from matplotlib import pyplot as plt"
   ]
  },
  {
   "cell_type": "code",
   "execution_count": 5,
   "id": "83786b8f",
   "metadata": {
    "ExecuteTime": {
     "end_time": "2023-02-17T13:18:09.608213Z",
     "start_time": "2023-02-17T13:18:09.380638Z"
    }
   },
   "outputs": [],
   "source": [
    "# Carregando o dataset\n",
    "dataset = r'datasets/AdventureWorks.xlsx'\n",
    "df = pd.read_excel(dataset)"
   ]
  },
  {
   "cell_type": "code",
   "execution_count": 7,
   "id": "c2214c2e",
   "metadata": {
    "ExecuteTime": {
     "end_time": "2023-02-17T13:19:10.165467Z",
     "start_time": "2023-02-17T13:19:10.134493Z"
    }
   },
   "outputs": [
    {
     "data": {
      "text/html": [
       "<div>\n",
       "<style scoped>\n",
       "    .dataframe tbody tr th:only-of-type {\n",
       "        vertical-align: middle;\n",
       "    }\n",
       "\n",
       "    .dataframe tbody tr th {\n",
       "        vertical-align: top;\n",
       "    }\n",
       "\n",
       "    .dataframe thead th {\n",
       "        text-align: right;\n",
       "    }\n",
       "</style>\n",
       "<table border=\"1\" class=\"dataframe\">\n",
       "  <thead>\n",
       "    <tr style=\"text-align: right;\">\n",
       "      <th></th>\n",
       "      <th>Data Venda</th>\n",
       "      <th>Data Envio</th>\n",
       "      <th>ID Loja</th>\n",
       "      <th>ID Produto</th>\n",
       "      <th>ID Cliente</th>\n",
       "      <th>No. Venda</th>\n",
       "      <th>Custo Unitário</th>\n",
       "      <th>Preço Unitário</th>\n",
       "      <th>Quantidade</th>\n",
       "      <th>Valor Desconto</th>\n",
       "      <th>Valor Venda</th>\n",
       "      <th>Produto</th>\n",
       "      <th>Fabricante</th>\n",
       "      <th>Marca</th>\n",
       "      <th>Classe</th>\n",
       "      <th>Cor</th>\n",
       "    </tr>\n",
       "  </thead>\n",
       "  <tbody>\n",
       "    <tr>\n",
       "      <th>0</th>\n",
       "      <td>2008-05-09</td>\n",
       "      <td>2008-05-29</td>\n",
       "      <td>199</td>\n",
       "      <td>384</td>\n",
       "      <td>18839</td>\n",
       "      <td>200805093CS607</td>\n",
       "      <td>348.58</td>\n",
       "      <td>758.0</td>\n",
       "      <td>6</td>\n",
       "      <td>0.0</td>\n",
       "      <td>4548.0</td>\n",
       "      <td>Adventure Works Laptop15.4W M1548 Red</td>\n",
       "      <td>Adventure Works</td>\n",
       "      <td>Adventure Works</td>\n",
       "      <td>Regular</td>\n",
       "      <td>Red</td>\n",
       "    </tr>\n",
       "    <tr>\n",
       "      <th>1</th>\n",
       "      <td>2008-05-12</td>\n",
       "      <td>2008-05-17</td>\n",
       "      <td>306</td>\n",
       "      <td>384</td>\n",
       "      <td>19051</td>\n",
       "      <td>200805123CS567</td>\n",
       "      <td>348.58</td>\n",
       "      <td>758.0</td>\n",
       "      <td>6</td>\n",
       "      <td>0.0</td>\n",
       "      <td>4548.0</td>\n",
       "      <td>Adventure Works Laptop15.4W M1548 Red</td>\n",
       "      <td>Adventure Works</td>\n",
       "      <td>Adventure Works</td>\n",
       "      <td>Regular</td>\n",
       "      <td>Red</td>\n",
       "    </tr>\n",
       "  </tbody>\n",
       "</table>\n",
       "</div>"
      ],
      "text/plain": [
       "  Data Venda Data Envio  ID Loja  ID Produto  ID Cliente       No. Venda  \\\n",
       "0 2008-05-09 2008-05-29      199         384       18839  200805093CS607   \n",
       "1 2008-05-12 2008-05-17      306         384       19051  200805123CS567   \n",
       "\n",
       "   Custo Unitário  Preço Unitário  Quantidade  Valor Desconto  Valor Venda  \\\n",
       "0          348.58           758.0           6             0.0       4548.0   \n",
       "1          348.58           758.0           6             0.0       4548.0   \n",
       "\n",
       "                                 Produto       Fabricante            Marca  \\\n",
       "0  Adventure Works Laptop15.4W M1548 Red  Adventure Works  Adventure Works   \n",
       "1  Adventure Works Laptop15.4W M1548 Red  Adventure Works  Adventure Works   \n",
       "\n",
       "    Classe  Cor  \n",
       "0  Regular  Red  \n",
       "1  Regular  Red  "
      ]
     },
     "execution_count": 7,
     "metadata": {},
     "output_type": "execute_result"
    }
   ],
   "source": [
    "df.head(2)"
   ]
  },
  {
   "cell_type": "markdown",
   "id": "8e2f2166",
   "metadata": {},
   "source": [
    "## 1. Qual a receita total?"
   ]
  },
  {
   "cell_type": "code",
   "execution_count": 8,
   "id": "5fec4201",
   "metadata": {
    "ExecuteTime": {
     "end_time": "2023-02-17T13:19:53.625496Z",
     "start_time": "2023-02-17T13:19:53.608366Z"
    }
   },
   "outputs": [
    {
     "data": {
      "text/plain": [
       "5984606.1426"
      ]
     },
     "execution_count": 8,
     "metadata": {},
     "output_type": "execute_result"
    }
   ],
   "source": [
    "df['Valor Venda'].sum()"
   ]
  },
  {
   "cell_type": "markdown",
   "id": "9bc9e36a",
   "metadata": {},
   "source": [
    "## 2. Qual o custo total?"
   ]
  },
  {
   "cell_type": "code",
   "execution_count": 12,
   "id": "48e25aa3",
   "metadata": {
    "ExecuteTime": {
     "end_time": "2023-02-17T13:23:06.940878Z",
     "start_time": "2023-02-17T13:23:06.922601Z"
    }
   },
   "outputs": [
    {
     "data": {
      "text/plain": [
       "2486783.05"
      ]
     },
     "execution_count": 12,
     "metadata": {},
     "output_type": "execute_result"
    }
   ],
   "source": [
    "df['Custo'] = df['Custo Unitário'].mul(df['Quantidade'])\n",
    "df['Custo'].sum()"
   ]
  },
  {
   "cell_type": "markdown",
   "id": "f03c9014",
   "metadata": {},
   "source": [
    "## 3. Qual o lucro total?"
   ]
  },
  {
   "cell_type": "code",
   "execution_count": 15,
   "id": "14cf4fdf",
   "metadata": {
    "ExecuteTime": {
     "end_time": "2023-02-17T13:23:54.222027Z",
     "start_time": "2023-02-17T13:23:54.209302Z"
    }
   },
   "outputs": [
    {
     "data": {
      "text/plain": [
       "3497823.0926"
      ]
     },
     "execution_count": 15,
     "metadata": {},
     "output_type": "execute_result"
    }
   ],
   "source": [
    "df['Lucro'] = df['Valor Venda'] - df['Custo']\n",
    "df['Lucro'].sum()"
   ]
  },
  {
   "cell_type": "markdown",
   "id": "10ebff78",
   "metadata": {},
   "source": [
    "## 4. Qual o tempo de envio - em dias - para um produto ser enviado?"
   ]
  },
  {
   "cell_type": "code",
   "execution_count": 17,
   "id": "b80cebaf",
   "metadata": {
    "ExecuteTime": {
     "end_time": "2023-02-17T13:25:12.282977Z",
     "start_time": "2023-02-17T13:25:12.271214Z"
    }
   },
   "outputs": [],
   "source": [
    "df['Tempo_Envio'] = df['Data Envio'] - df['Data Venda']"
   ]
  },
  {
   "cell_type": "markdown",
   "id": "c37148b7",
   "metadata": {},
   "source": [
    "## 5. Qual a média de tempo de envio para cada marca?"
   ]
  },
  {
   "cell_type": "code",
   "execution_count": 22,
   "id": "d084c26b",
   "metadata": {
    "ExecuteTime": {
     "end_time": "2023-02-17T13:29:02.791013Z",
     "start_time": "2023-02-17T13:29:02.778000Z"
    }
   },
   "outputs": [
    {
     "data": {
      "text/plain": [
       "Marca\n",
       "Adventure Works    8.663866\n",
       "Contoso            8.470930\n",
       "Fabrikam           8.510121\n",
       "Name: Tempo_Envio, dtype: float64"
      ]
     },
     "execution_count": 22,
     "metadata": {},
     "output_type": "execute_result"
    }
   ],
   "source": [
    "df['Tempo_Envio'] = df['Tempo_Envio'].dt.days\n",
    "df.groupby('Marca')['Tempo_Envio'].mean()"
   ]
  },
  {
   "cell_type": "markdown",
   "id": "1cd03504",
   "metadata": {},
   "source": [
    "## 6. Verifique se há valores nulos"
   ]
  },
  {
   "cell_type": "code",
   "execution_count": 23,
   "id": "a2265f53",
   "metadata": {
    "ExecuteTime": {
     "end_time": "2023-02-17T13:29:37.021295Z",
     "start_time": "2023-02-17T13:29:36.979390Z"
    }
   },
   "outputs": [
    {
     "data": {
      "text/plain": [
       "Data Venda        0\n",
       "Data Envio        0\n",
       "ID Loja           0\n",
       "ID Produto        0\n",
       "ID Cliente        0\n",
       "No. Venda         0\n",
       "Custo Unitário    0\n",
       "Preço Unitário    0\n",
       "Quantidade        0\n",
       "Valor Desconto    0\n",
       "Valor Venda       0\n",
       "Produto           0\n",
       "Fabricante        0\n",
       "Marca             0\n",
       "Classe            0\n",
       "Cor               0\n",
       "Custo             0\n",
       "Lucro             0\n",
       "Tempo_Envio       0\n",
       "dtype: int64"
      ]
     },
     "execution_count": 23,
     "metadata": {},
     "output_type": "execute_result"
    }
   ],
   "source": [
    "df.isna().sum()"
   ]
  },
  {
   "cell_type": "markdown",
   "id": "3c545c84",
   "metadata": {},
   "source": [
    "## 7. Qual foi o lucro por ano e por marca"
   ]
  },
  {
   "cell_type": "code",
   "execution_count": 26,
   "id": "76736642",
   "metadata": {
    "ExecuteTime": {
     "end_time": "2023-02-17T13:33:16.624835Z",
     "start_time": "2023-02-17T13:33:16.614514Z"
    }
   },
   "outputs": [],
   "source": [
    "pd.options.display.float_format = '{:20,.2f}'.format"
   ]
  },
  {
   "cell_type": "code",
   "execution_count": 27,
   "id": "a1cbcdf6",
   "metadata": {
    "ExecuteTime": {
     "end_time": "2023-02-17T13:33:18.704917Z",
     "start_time": "2023-02-17T13:33:18.685720Z"
    }
   },
   "outputs": [
    {
     "data": {
      "text/plain": [
       "Data Venda  Marca          \n",
       "2008        Adventure Works             306,641.16\n",
       "            Contoso                      56,416.00\n",
       "            Fabrikam                  1,557,020.55\n",
       "2009        Adventure Works             405,395.08\n",
       "            Contoso                     138,258.95\n",
       "            Fabrikam                  1,034,091.35\n",
       "Name: Lucro, dtype: float64"
      ]
     },
     "execution_count": 27,
     "metadata": {},
     "output_type": "execute_result"
    }
   ],
   "source": [
    "df.groupby([df['Data Venda'].dt.year, 'Marca'])['Lucro'].sum()"
   ]
  },
  {
   "cell_type": "markdown",
   "id": "fbf8a331",
   "metadata": {},
   "source": [
    "## 8. Qual o total de produtos vendidos?"
   ]
  },
  {
   "cell_type": "code",
   "execution_count": 29,
   "id": "272dea4b",
   "metadata": {
    "ExecuteTime": {
     "end_time": "2023-02-17T13:54:44.770702Z",
     "start_time": "2023-02-17T13:54:44.756554Z"
    }
   },
   "outputs": [
    {
     "data": {
      "text/plain": [
       "Produto\n",
       "Headphone Adapter for Contoso Phone E130 Silver    25232\n",
       "Headphone Adapter for Contoso Phone E130 White     25008\n",
       "Adventure Works Laptop15.4W M1548 Black             1089\n",
       "Fabrikam Trendsetter 2/3'' 17mm X100 Grey           1087\n",
       "Adventure Works Laptop15.4W M1548 Red               1047\n",
       "Fabrikam Trendsetter 2/3'' 17mm X100 Black           926\n",
       "Fabrikam Trendsetter 1/3'' 8.5mm X200 Black          884\n",
       "Fabrikam Trendsetter 1/3'' 8.5mm X200 Grey           845\n",
       "Fabrikam Trendsetter 1/3'' 8.5mm X200 White          789\n",
       "Name: Quantidade, dtype: int64"
      ]
     },
     "execution_count": 29,
     "metadata": {},
     "output_type": "execute_result"
    }
   ],
   "source": [
    "df.groupby('Produto')['Quantidade'].sum().sort_values(ascending=False)"
   ]
  },
  {
   "cell_type": "markdown",
   "id": "eae3d577",
   "metadata": {},
   "source": [
    "## 9. Gráfico do total de produtos vendidos (Barras horizontais)"
   ]
  },
  {
   "cell_type": "code",
   "execution_count": 32,
   "id": "59d2ddd6",
   "metadata": {
    "ExecuteTime": {
     "end_time": "2023-02-17T14:01:19.787408Z",
     "start_time": "2023-02-17T14:01:19.527423Z"
    }
   },
   "outputs": [
    {
     "data": {
      "image/png": "[encoded data removed]",
      "text/plain": [
       "<Figure size 1152x576 with 1 Axes>"
      ]
     },
     "metadata": {
      "needs_background": "light"
     },
     "output_type": "display_data"
    }
   ],
   "source": [
    "tprd = df.groupby('Produto')['Quantidade'].sum().sort_values(ascending=False)\n",
    "\n",
    "fig, ax = plt.subplots(figsize=(16,8))\n",
    "\n",
    "ax.barh(tprd.index, tprd.values)\n",
    "ax.invert_yaxis()\n",
    "\n",
    "plt.show()"
   ]
  },
  {
   "cell_type": "code",
   "execution_count": 52,
   "id": "00148597",
   "metadata": {
    "ExecuteTime": {
     "end_time": "2023-02-17T15:43:33.864800Z",
     "start_time": "2023-02-17T15:43:33.618389Z"
    }
   },
   "outputs": [
    {
     "data": {
      "image/png": "[encoded data removed]",
      "text/plain": [
       "<Figure size 1152x576 with 1 Axes>"
      ]
     },
     "metadata": {
      "needs_background": "light"
     },
     "output_type": "display_data"
    }
   ],
   "source": [
    "tprd = df.groupby('Produto')['Quantidade'].sum().sort_values(ascending=False)\n",
    "\n",
    "fig, ax = plt.subplots(figsize=(16,8))\n",
    "\n",
    "ax.bar(tprd.index, tprd.values)\n",
    "ax.set_xticks(tprd.index)\n",
    "ax.set_xticklabels(labels=tprd.index, fontsize=12, rotation=90)\n",
    "\n",
    "plt.show()"
   ]
  },
  {
   "cell_type": "markdown",
   "id": "b33cad23",
   "metadata": {},
   "source": [
    "## 10. Qual o total de lucro por ano?"
   ]
  },
  {
   "cell_type": "code",
   "execution_count": 39,
   "id": "78b155d7",
   "metadata": {
    "ExecuteTime": {
     "end_time": "2023-02-17T15:31:37.268887Z",
     "start_time": "2023-02-17T15:31:37.242168Z"
    }
   },
   "outputs": [
    {
     "data": {
      "text/plain": [
       "Data Venda\n",
       "2008           1,920,077.71\n",
       "2009           1,577,745.38\n",
       "Name: Lucro, dtype: float64"
      ]
     },
     "execution_count": 39,
     "metadata": {},
     "output_type": "execute_result"
    }
   ],
   "source": [
    "df.groupby(df['Data Venda'].dt.year)['Lucro'].sum()"
   ]
  },
  {
   "cell_type": "markdown",
   "id": "67948f01",
   "metadata": {},
   "source": [
    "## 11. Gráfico Lucro x Ano"
   ]
  },
  {
   "cell_type": "code",
   "execution_count": 50,
   "id": "1e5ccc13",
   "metadata": {
    "ExecuteTime": {
     "end_time": "2023-02-17T15:41:54.564523Z",
     "start_time": "2023-02-17T15:41:54.450433Z"
    }
   },
   "outputs": [
    {
     "data": {
      "image/png": "[encoded data removed]",
      "text/plain": [
       "<Figure size 1152x576 with 1 Axes>"
      ]
     },
     "metadata": {
      "needs_background": "light"
     },
     "output_type": "display_data"
    }
   ],
   "source": [
    "lucro_ano = df.groupby(df['Data Venda'].dt.year)['Lucro'].sum()\n",
    "\n",
    "fig, ax = plt.subplots(figsize=(16,8))\n",
    "\n",
    "ax.bar(lucro_ano.index, lucro_ano.values)\n",
    "ax.set_xticks(lucro_ano.index)\n",
    "ax.set_xticklabels(labels=lucro_ano.index, fontsize=14)\n",
    "ax.set_yticks(lucro_ano.values)\n",
    "ax.set_title('Lucro x Ano', fontsize=20)\n",
    "plt.show()"
   ]
  },
  {
   "cell_type": "markdown",
   "id": "6e82fe16",
   "metadata": {},
   "source": [
    "## 12. Selecionar somente 2009"
   ]
  },
  {
   "cell_type": "code",
   "execution_count": 55,
   "id": "e9f84822",
   "metadata": {
    "ExecuteTime": {
     "end_time": "2023-02-17T15:47:53.770533Z",
     "start_time": "2023-02-17T15:47:53.703225Z"
    }
   },
   "outputs": [
    {
     "data": {
      "text/html": [
       "<div>\n",
       "<style scoped>\n",
       "    .dataframe tbody tr th:only-of-type {\n",
       "        vertical-align: middle;\n",
       "    }\n",
       "\n",
       "    .dataframe tbody tr th {\n",
       "        vertical-align: top;\n",
       "    }\n",
       "\n",
       "    .dataframe thead th {\n",
       "        text-align: right;\n",
       "    }\n",
       "</style>\n",
       "<table border=\"1\" class=\"dataframe\">\n",
       "  <thead>\n",
       "    <tr style=\"text-align: right;\">\n",
       "      <th></th>\n",
       "      <th>Data Venda</th>\n",
       "      <th>Data Envio</th>\n",
       "      <th>ID Loja</th>\n",
       "      <th>ID Produto</th>\n",
       "      <th>ID Cliente</th>\n",
       "      <th>No. Venda</th>\n",
       "      <th>Custo Unitário</th>\n",
       "      <th>Preço Unitário</th>\n",
       "      <th>Quantidade</th>\n",
       "      <th>Valor Desconto</th>\n",
       "      <th>Valor Venda</th>\n",
       "      <th>Produto</th>\n",
       "      <th>Fabricante</th>\n",
       "      <th>Marca</th>\n",
       "      <th>Classe</th>\n",
       "      <th>Cor</th>\n",
       "      <th>Custo</th>\n",
       "      <th>Lucro</th>\n",
       "      <th>Tempo_Envio</th>\n",
       "    </tr>\n",
       "  </thead>\n",
       "  <tbody>\n",
       "    <tr>\n",
       "      <th>11</th>\n",
       "      <td>2009-05-02</td>\n",
       "      <td>2009-05-14</td>\n",
       "      <td>199</td>\n",
       "      <td>384</td>\n",
       "      <td>18938</td>\n",
       "      <td>200905023CS847</td>\n",
       "      <td>348.58</td>\n",
       "      <td>758.00</td>\n",
       "      <td>6</td>\n",
       "      <td>0.00</td>\n",
       "      <td>4,548.00</td>\n",
       "      <td>Adventure Works Laptop15.4W M1548 Red</td>\n",
       "      <td>Adventure Works</td>\n",
       "      <td>Adventure Works</td>\n",
       "      <td>Regular</td>\n",
       "      <td>Red</td>\n",
       "      <td>2,091.48</td>\n",
       "      <td>2,456.52</td>\n",
       "      <td>12</td>\n",
       "    </tr>\n",
       "    <tr>\n",
       "      <th>12</th>\n",
       "      <td>2009-05-16</td>\n",
       "      <td>2009-05-27</td>\n",
       "      <td>306</td>\n",
       "      <td>384</td>\n",
       "      <td>19067</td>\n",
       "      <td>200905163CS746</td>\n",
       "      <td>348.58</td>\n",
       "      <td>758.00</td>\n",
       "      <td>6</td>\n",
       "      <td>0.00</td>\n",
       "      <td>4,548.00</td>\n",
       "      <td>Adventure Works Laptop15.4W M1548 Red</td>\n",
       "      <td>Adventure Works</td>\n",
       "      <td>Adventure Works</td>\n",
       "      <td>Regular</td>\n",
       "      <td>Red</td>\n",
       "      <td>2,091.48</td>\n",
       "      <td>2,456.52</td>\n",
       "      <td>11</td>\n",
       "    </tr>\n",
       "  </tbody>\n",
       "</table>\n",
       "</div>"
      ],
      "text/plain": [
       "   Data Venda Data Envio  ID Loja  ID Produto  ID Cliente       No. Venda  \\\n",
       "11 2009-05-02 2009-05-14      199         384       18938  200905023CS847   \n",
       "12 2009-05-16 2009-05-27      306         384       19067  200905163CS746   \n",
       "\n",
       "         Custo Unitário       Preço Unitário  Quantidade       Valor Desconto  \\\n",
       "11               348.58               758.00           6                 0.00   \n",
       "12               348.58               758.00           6                 0.00   \n",
       "\n",
       "            Valor Venda                                Produto  \\\n",
       "11             4,548.00  Adventure Works Laptop15.4W M1548 Red   \n",
       "12             4,548.00  Adventure Works Laptop15.4W M1548 Red   \n",
       "\n",
       "         Fabricante            Marca   Classe  Cor                Custo  \\\n",
       "11  Adventure Works  Adventure Works  Regular  Red             2,091.48   \n",
       "12  Adventure Works  Adventure Works  Regular  Red             2,091.48   \n",
       "\n",
       "                  Lucro  Tempo_Envio  \n",
       "11             2,456.52           12  \n",
       "12             2,456.52           11  "
      ]
     },
     "execution_count": 55,
     "metadata": {},
     "output_type": "execute_result"
    }
   ],
   "source": [
    "df_2009 = df[df['Data Venda'].dt.year == 2009]\n",
    "df_2009.head(2)"
   ]
  },
  {
   "cell_type": "markdown",
   "id": "b9c1563a",
   "metadata": {},
   "source": [
    "## 13. Gráfico de linhas lucro x mês com rótulos"
   ]
  },
  {
   "cell_type": "code",
   "execution_count": 78,
   "id": "cc5093ba",
   "metadata": {
    "ExecuteTime": {
     "end_time": "2023-02-17T16:07:00.431286Z",
     "start_time": "2023-02-17T16:07:00.215758Z"
    }
   },
   "outputs": [
    {
     "data": {
      "image/png": "[encoded data removed]",
      "text/plain": [
       "<Figure size 1152x576 with 1 Axes>"
      ]
     },
     "metadata": {
      "needs_background": "light"
     },
     "output_type": "display_data"
    }
   ],
   "source": [
    "lucro_mes_09 = df_2009.groupby(df_2009['Data Venda'].dt.month)['Lucro'].sum()\n",
    "\n",
    "fig, ax = plt.subplots(figsize=(16,8))\n",
    "\n",
    "ax.plot(lucro_mes_09.index, lucro_mes_09.values, marker='o', linestyle='dashed')\n",
    "ax.set_title('Lucro x Mês', fontsize=20)\n",
    "ax.set_xticks(lucro_mes_09.index)\n",
    "ax.set_xticklabels(\n",
    "    labels=lucro_mes_09.index.map(\n",
    "        {1: 'Jan', 2: 'Fev', 3: 'Mar', 4: 'Abr', 5: 'Mai', 6: 'Jun',\n",
    "         7: 'Jul', 8: 'Ago', 9: 'Set', 10: 'Out', 11: 'Nov', 12: 'Dez'}\n",
    "    ),\n",
    "    fontsize=14\n",
    ")\n",
    "\n",
    "ax.set_yticks([])\n",
    "ax.set_ylim([0, 250000])\n",
    "ax.spines[['top', 'right', 'left']].set_visible(False)\n",
    "\n",
    "for i in range(12):\n",
    "    ax.annotate(\n",
    "        f'R$ {lucro_mes_09.values[i] / 1000:,.0f} mil',\n",
    "        (lucro_mes_09.index[i], lucro_mes_09.values[i]),\n",
    "        ha='center',\n",
    "        xytext=(0, 10),\n",
    "        textcoords='offset points',\n",
    "        fontweight='bold',\n",
    "        fontsize=12\n",
    "    )\n",
    "\n",
    "plt.show()"
   ]
  },
  {
   "cell_type": "markdown",
   "id": "9f321953",
   "metadata": {},
   "source": [
    "## 14. Gráfico de barras  Lucro x Marca"
   ]
  },
  {
   "cell_type": "code",
   "execution_count": 83,
   "id": "049cca3c",
   "metadata": {
    "ExecuteTime": {
     "end_time": "2023-02-17T16:15:30.449119Z",
     "start_time": "2023-02-17T16:15:30.270693Z"
    }
   },
   "outputs": [
    {
     "data": {
      "image/png": "[encoded data removed]",
      "text/plain": [
       "<Figure size 1152x576 with 1 Axes>"
      ]
     },
     "metadata": {
      "needs_background": "light"
     },
     "output_type": "display_data"
    }
   ],
   "source": [
    "lucro_marca = df_2009.groupby('Marca')['Lucro'].sum()\n",
    "\n",
    "fig, ax = plt.subplots(figsize=(16,8))\n",
    "\n",
    "ax.bar(lucro_marca.index, lucro_marca.values, color='tomato')\n",
    "ax.set_title('Lucro x Marca', fontsize=20)\n",
    "ax.set_xticks(lucro_marca.index)\n",
    "ax.set_xticklabels(labels=lucro_marca.index.str.upper(), fontsize=14)\n",
    "\n",
    "plt.show()"
   ]
  },
  {
   "cell_type": "markdown",
   "id": "eaf4d392",
   "metadata": {},
   "source": [
    "## 15. Gráfico de barras Lucro x Classe"
   ]
  },
  {
   "cell_type": "code",
   "execution_count": 114,
   "id": "1e9e3622",
   "metadata": {
    "ExecuteTime": {
     "end_time": "2023-02-17T16:36:56.573014Z",
     "start_time": "2023-02-17T16:36:56.437111Z"
    }
   },
   "outputs": [
    {
     "data": {
      "image/png": "[encoded data removed]",
      "text/plain": [
       "<Figure size 1152x576 with 1 Axes>"
      ]
     },
     "metadata": {
      "needs_background": "light"
     },
     "output_type": "display_data"
    }
   ],
   "source": [
    "lucro_classe = df_2009.groupby('Classe')['Lucro'].sum()\n",
    "\n",
    "fig, ax = plt.subplots(figsize=(16,8))\n",
    "\n",
    "ax.bar(lucro_classe.index, lucro_classe.values)\n",
    "ax.set_title('Lucro x Classe', fontsize=20)\n",
    "ax.set_xticks(lucro_classe.index)\n",
    "ax.set_xticklabels(labels=lucro_classe.index.str.upper(), fontsize=14)\n",
    "\n",
    "ax.set_yticks([])\n",
    "ax.spines[['top', 'right', 'left']].set_visible(False)\n",
    "\n",
    "for i in range(2):\n",
    "    ax.annotate(\n",
    "        f'R$ {lucro_classe.values[i] / 1000:,.1f} mil',\n",
    "        (i, lucro_classe.values[i]),\n",
    "        ha='center',\n",
    "        xytext=(0, 5),\n",
    "        textcoords='offset points',\n",
    "        fontsize=14\n",
    "    )\n",
    "\n",
    "plt.show()"
   ]
  },
  {
   "cell_type": "markdown",
   "id": "87ecb469",
   "metadata": {
    "ExecuteTime": {
     "end_time": "2023-02-17T16:36:06.992751Z",
     "start_time": "2023-02-17T16:36:06.975191Z"
    }
   },
   "source": [
    "## 16. Análise estatística de Tempo_envio do dataset inteiro"
   ]
  },
  {
   "cell_type": "markdown",
   "id": "336a81a6",
   "metadata": {},
   "source": [
    "### Describe( )"
   ]
  },
  {
   "cell_type": "code",
   "execution_count": 116,
   "id": "e64fc7af",
   "metadata": {
    "ExecuteTime": {
     "end_time": "2023-02-17T16:41:49.422772Z",
     "start_time": "2023-02-17T16:41:49.387693Z"
    }
   },
   "outputs": [
    {
     "data": {
      "text/plain": [
       "count                 904.00\n",
       "mean                    8.54\n",
       "std                     3.06\n",
       "min                     4.00\n",
       "25%                     6.00\n",
       "50%                     9.00\n",
       "75%                    11.00\n",
       "max                    20.00\n",
       "Name: Tempo_Envio, dtype: float64"
      ]
     },
     "execution_count": 116,
     "metadata": {},
     "output_type": "execute_result"
    }
   ],
   "source": [
    "df['Tempo_Envio'].describe()"
   ]
  },
  {
   "cell_type": "markdown",
   "id": "aac8b2f5",
   "metadata": {},
   "source": [
    "### Gráfico Boxplot"
   ]
  },
  {
   "cell_type": "code",
   "execution_count": 124,
   "id": "1c1fb121",
   "metadata": {
    "ExecuteTime": {
     "end_time": "2023-02-17T16:49:34.221782Z",
     "start_time": "2023-02-17T16:49:33.944001Z"
    }
   },
   "outputs": [
    {
     "data": {
      "image/png": "[encoded data removed]",
      "text/plain": [
       "<Figure size 1152x576 with 1 Axes>"
      ]
     },
     "metadata": {
      "needs_background": "light"
     },
     "output_type": "display_data"
    }
   ],
   "source": [
    "fig, ax = plt.subplots(figsize=(16,8))\n",
    "\n",
    "ax.boxplot(df['Tempo_Envio'], notch=True, patch_artist=True)\n",
    "\n",
    "plt.xticks([1], ['Tempo Envio'], fontsize=14)\n",
    "plt.show()"
   ]
  },
  {
   "cell_type": "markdown",
   "id": "435f7cd2",
   "metadata": {},
   "source": [
    "### Histograma (Definir tipo de gráfico histograma)"
   ]
  },
  {
   "cell_type": "code",
   "execution_count": 131,
   "id": "26720803",
   "metadata": {
    "ExecuteTime": {
     "end_time": "2023-02-17T16:53:26.140622Z",
     "start_time": "2023-02-17T16:53:25.910347Z"
    }
   },
   "outputs": [
    {
     "data": {
      "image/png": "[encoded data removed]",
      "text/plain": [
       "<Figure size 1152x576 with 1 Axes>"
      ]
     },
     "metadata": {
      "needs_background": "light"
     },
     "output_type": "display_data"
    }
   ],
   "source": [
    "fig, ax = plt.subplots(figsize=(16,8))\n",
    "\n",
    "ax.hist(df['Tempo_Envio'])\n",
    "ax.grid(visible=True, axis='both', color='grey')\n",
    "ax.set_axisbelow(True)\n",
    "\n",
    "plt.show()"
   ]
  },
  {
   "cell_type": "markdown",
   "id": "a87923c3",
   "metadata": {},
   "source": [
    "### Tempo mínimo de envio"
   ]
  },
  {
   "cell_type": "code",
   "execution_count": 132,
   "id": "09519192",
   "metadata": {
    "ExecuteTime": {
     "end_time": "2023-02-17T16:53:44.292454Z",
     "start_time": "2023-02-17T16:53:44.256610Z"
    }
   },
   "outputs": [
    {
     "data": {
      "text/plain": [
       "4"
      ]
     },
     "execution_count": 132,
     "metadata": {},
     "output_type": "execute_result"
    }
   ],
   "source": [
    "df['Tempo_Envio'].min()"
   ]
  },
  {
   "cell_type": "markdown",
   "id": "ee6dd14d",
   "metadata": {},
   "source": [
    "### Tempo máximo de envio"
   ]
  },
  {
   "cell_type": "code",
   "execution_count": 133,
   "id": "bdb72869",
   "metadata": {
    "ExecuteTime": {
     "end_time": "2023-02-17T16:53:57.196203Z",
     "start_time": "2023-02-17T16:53:57.191038Z"
    }
   },
   "outputs": [
    {
     "data": {
      "text/plain": [
       "20"
      ]
     },
     "execution_count": 133,
     "metadata": {},
     "output_type": "execute_result"
    }
   ],
   "source": [
    "df['Tempo_Envio'].max()"
   ]
  },
  {
   "cell_type": "markdown",
   "id": "1d0ca811",
   "metadata": {},
   "source": [
    "## 17. Identificando o Outlier (Qual é este produto?)"
   ]
  },
  {
   "cell_type": "code",
   "execution_count": 134,
   "id": "630f00aa",
   "metadata": {
    "ExecuteTime": {
     "end_time": "2023-02-17T16:55:21.582461Z",
     "start_time": "2023-02-17T16:55:21.534688Z"
    }
   },
   "outputs": [
    {
     "data": {
      "text/html": [
       "<div>\n",
       "<style scoped>\n",
       "    .dataframe tbody tr th:only-of-type {\n",
       "        vertical-align: middle;\n",
       "    }\n",
       "\n",
       "    .dataframe tbody tr th {\n",
       "        vertical-align: top;\n",
       "    }\n",
       "\n",
       "    .dataframe thead th {\n",
       "        text-align: right;\n",
       "    }\n",
       "</style>\n",
       "<table border=\"1\" class=\"dataframe\">\n",
       "  <thead>\n",
       "    <tr style=\"text-align: right;\">\n",
       "      <th></th>\n",
       "      <th>Data Venda</th>\n",
       "      <th>Data Envio</th>\n",
       "      <th>ID Loja</th>\n",
       "      <th>ID Produto</th>\n",
       "      <th>ID Cliente</th>\n",
       "      <th>No. Venda</th>\n",
       "      <th>Custo Unitário</th>\n",
       "      <th>Preço Unitário</th>\n",
       "      <th>Quantidade</th>\n",
       "      <th>Valor Desconto</th>\n",
       "      <th>Valor Venda</th>\n",
       "      <th>Produto</th>\n",
       "      <th>Fabricante</th>\n",
       "      <th>Marca</th>\n",
       "      <th>Classe</th>\n",
       "      <th>Cor</th>\n",
       "      <th>Custo</th>\n",
       "      <th>Lucro</th>\n",
       "      <th>Tempo_Envio</th>\n",
       "    </tr>\n",
       "  </thead>\n",
       "  <tbody>\n",
       "    <tr>\n",
       "      <th>0</th>\n",
       "      <td>2008-05-09</td>\n",
       "      <td>2008-05-29</td>\n",
       "      <td>199</td>\n",
       "      <td>384</td>\n",
       "      <td>18839</td>\n",
       "      <td>200805093CS607</td>\n",
       "      <td>348.58</td>\n",
       "      <td>758.00</td>\n",
       "      <td>6</td>\n",
       "      <td>0.00</td>\n",
       "      <td>4,548.00</td>\n",
       "      <td>Adventure Works Laptop15.4W M1548 Red</td>\n",
       "      <td>Adventure Works</td>\n",
       "      <td>Adventure Works</td>\n",
       "      <td>Regular</td>\n",
       "      <td>Red</td>\n",
       "      <td>2,091.48</td>\n",
       "      <td>2,456.52</td>\n",
       "      <td>20</td>\n",
       "    </tr>\n",
       "  </tbody>\n",
       "</table>\n",
       "</div>"
      ],
      "text/plain": [
       "  Data Venda Data Envio  ID Loja  ID Produto  ID Cliente       No. Venda  \\\n",
       "0 2008-05-09 2008-05-29      199         384       18839  200805093CS607   \n",
       "\n",
       "        Custo Unitário       Preço Unitário  Quantidade       Valor Desconto  \\\n",
       "0               348.58               758.00           6                 0.00   \n",
       "\n",
       "           Valor Venda                                Produto  \\\n",
       "0             4,548.00  Adventure Works Laptop15.4W M1548 Red   \n",
       "\n",
       "        Fabricante            Marca   Classe  Cor                Custo  \\\n",
       "0  Adventure Works  Adventure Works  Regular  Red             2,091.48   \n",
       "\n",
       "                 Lucro  Tempo_Envio  \n",
       "0             2,456.52           20  "
      ]
     },
     "execution_count": 134,
     "metadata": {},
     "output_type": "execute_result"
    }
   ],
   "source": [
    "df.loc[df['Tempo_Envio'] == df['Tempo_Envio'].max(), :]"
   ]
  },
  {
   "cell_type": "code",
   "execution_count": 135,
   "id": "bb97c546",
   "metadata": {
    "ExecuteTime": {
     "end_time": "2023-02-17T16:55:47.833105Z",
     "start_time": "2023-02-17T16:55:47.811254Z"
    }
   },
   "outputs": [
    {
     "data": {
      "text/html": [
       "<div>\n",
       "<style scoped>\n",
       "    .dataframe tbody tr th:only-of-type {\n",
       "        vertical-align: middle;\n",
       "    }\n",
       "\n",
       "    .dataframe tbody tr th {\n",
       "        vertical-align: top;\n",
       "    }\n",
       "\n",
       "    .dataframe thead th {\n",
       "        text-align: right;\n",
       "    }\n",
       "</style>\n",
       "<table border=\"1\" class=\"dataframe\">\n",
       "  <thead>\n",
       "    <tr style=\"text-align: right;\">\n",
       "      <th></th>\n",
       "      <th>Data Venda</th>\n",
       "      <th>Data Envio</th>\n",
       "      <th>ID Loja</th>\n",
       "      <th>ID Produto</th>\n",
       "      <th>ID Cliente</th>\n",
       "      <th>No. Venda</th>\n",
       "      <th>Custo Unitário</th>\n",
       "      <th>Preço Unitário</th>\n",
       "      <th>Quantidade</th>\n",
       "      <th>Valor Desconto</th>\n",
       "      <th>Valor Venda</th>\n",
       "      <th>Produto</th>\n",
       "      <th>Fabricante</th>\n",
       "      <th>Marca</th>\n",
       "      <th>Classe</th>\n",
       "      <th>Cor</th>\n",
       "      <th>Custo</th>\n",
       "      <th>Lucro</th>\n",
       "      <th>Tempo_Envio</th>\n",
       "    </tr>\n",
       "  </thead>\n",
       "  <tbody>\n",
       "    <tr>\n",
       "      <th>0</th>\n",
       "      <td>2008-05-09</td>\n",
       "      <td>2008-05-29</td>\n",
       "      <td>199</td>\n",
       "      <td>384</td>\n",
       "      <td>18839</td>\n",
       "      <td>200805093CS607</td>\n",
       "      <td>348.58</td>\n",
       "      <td>758.00</td>\n",
       "      <td>6</td>\n",
       "      <td>0.00</td>\n",
       "      <td>4,548.00</td>\n",
       "      <td>Adventure Works Laptop15.4W M1548 Red</td>\n",
       "      <td>Adventure Works</td>\n",
       "      <td>Adventure Works</td>\n",
       "      <td>Regular</td>\n",
       "      <td>Red</td>\n",
       "      <td>2,091.48</td>\n",
       "      <td>2,456.52</td>\n",
       "      <td>20</td>\n",
       "    </tr>\n",
       "  </tbody>\n",
       "</table>\n",
       "</div>"
      ],
      "text/plain": [
       "  Data Venda Data Envio  ID Loja  ID Produto  ID Cliente       No. Venda  \\\n",
       "0 2008-05-09 2008-05-29      199         384       18839  200805093CS607   \n",
       "\n",
       "        Custo Unitário       Preço Unitário  Quantidade       Valor Desconto  \\\n",
       "0               348.58               758.00           6                 0.00   \n",
       "\n",
       "           Valor Venda                                Produto  \\\n",
       "0             4,548.00  Adventure Works Laptop15.4W M1548 Red   \n",
       "\n",
       "        Fabricante            Marca   Classe  Cor                Custo  \\\n",
       "0  Adventure Works  Adventure Works  Regular  Red             2,091.48   \n",
       "\n",
       "                 Lucro  Tempo_Envio  \n",
       "0             2,456.52           20  "
      ]
     },
     "execution_count": 135,
     "metadata": {},
     "output_type": "execute_result"
    }
   ],
   "source": [
    "df[df['Tempo_Envio'] == df['Tempo_Envio'].max()]"
   ]
  }
 ],
 "metadata": {
  "kernelspec": {
   "display_name": "Python 3 (ipykernel)",
   "language": "python",
   "name": "python3"
  },
  "language_info": {
   "codemirror_mode": {
    "name": "ipython",
    "version": 3
   },
   "file_extension": ".py",
   "mimetype": "text/x-python",
   "name": "python",
   "nbconvert_exporter": "python",
   "pygments_lexer": "ipython3",
   "version": "3.9.12"
  }
 },
 "nbformat": 4,
 "nbformat_minor": 5
}
